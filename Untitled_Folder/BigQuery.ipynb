{
 "cells": [
  {
   "cell_type": "code",
   "execution_count": null,
   "id": "33ed8ee1-685c-40c2-b26a-d51a580be2f4",
   "metadata": {},
   "outputs": [],
   "source": [
    "%%bigquery\n",
    "SELECT DISTINCT\n",
    "    ratings.movie_id,\n",
    "    movies.movie_title,\n",
    "FROM `mubi_movie_data.mubi_ratings_data` ratings\n",
    "JOIN `mubi_movie_data.mubi_movie_data` movies ON\n",
    "    ratings.movie_id = movies.movie_id"
   ]
  },
  {
   "cell_type": "code",
   "execution_count": null,
   "id": "e385895c-3e63-4e6d-8af4-6366359db2aa",
   "metadata": {},
   "outputs": [],
   "source": [
    "%%bigquery\n",
    "SELECT movie_id as movie_number\n",
    "FROM `mubi_movie_data.mubi_ratings_data`\n",
    "LIMIT 15"
   ]
  }
 ],
 "metadata": {
  "environment": {
   "kernel": "python3",
   "name": "tf2-gpu.2-6.m90",
   "type": "gcloud",
   "uri": "gcr.io/deeplearning-platform-release/tf2-gpu.2-6:m90"
  },
  "kernelspec": {
   "display_name": "Python 3",
   "language": "python",
   "name": "python3"
  },
  "language_info": {
   "codemirror_mode": {
    "name": "ipython",
    "version": 3
   },
   "file_extension": ".py",
   "mimetype": "text/x-python",
   "name": "python",
   "nbconvert_exporter": "python",
   "pygments_lexer": "ipython3",
   "version": "3.7.12"
  }
 },
 "nbformat": 4,
 "nbformat_minor": 5
}
